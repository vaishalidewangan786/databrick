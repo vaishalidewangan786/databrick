{
 "cells": [
  {
   "cell_type": "markdown",
   "metadata": {
    "application/vnd.databricks.v1+cell": {
     "cellMetadata": {},
     "inputWidgets": {},
     "nuid": "960573f9-9ec6-4643-aab9-2e80596852d7",
     "showTitle": false,
     "tableResultSettingsMap": {},
     "title": ""
    }
   },
   "source": [
    "To re-use common functions and variables"
   ]
  },
  {
   "cell_type": "markdown",
   "metadata": {
    "application/vnd.databricks.v1+cell": {
     "cellMetadata": {},
     "inputWidgets": {},
     "nuid": "f48f38d2-473f-4073-8f17-b25511cde64f",
     "showTitle": false,
     "tableResultSettingsMap": {},
     "title": ""
    }
   },
   "source": [
    "\n",
    "\n",
    " Re-Using functions\n",
    "- We can re-use 2 functions here\n",
    "- Removing Duplicates\n",
    "- Removing NULLs"
   ]
  },
  {
   "cell_type": "code",
   "execution_count": 0,
   "metadata": {
    "application/vnd.databricks.v1+cell": {
     "cellMetadata": {},
     "inputWidgets": {},
     "nuid": "121bb2fc-6a30-45cf-9402-db4f89d6c552",
     "showTitle": false,
     "tableResultSettingsMap": {},
     "title": ""
    }
   },
   "outputs": [],
   "source": [
    "checkpoint = spark.sql(\"\"\" DESCRIBE EXTERNAL LOCATION `checkpoint` \"\"\").select(\"url\").collect()[0][0]\n",
    "landing = spark.sql(\"\"\" DESCRIBE EXTERNAL LOCATION `landing` \"\"\").select(\"url\").collect()[0][0]\n",
    "bronze_path= spark.sql(\"\"\" DESCRIBE EXTERNAL LOCATION `bronze` \"\"\").select(\"url\").collect()[0][0]\n",
    "silver_path= spark.sql(\"\"\" DESCRIBE EXTERNAL LOCATION `silver` \"\"\").select(\"url\").collect()[0][0]\n",
    "gold_path= spark.sql(\"\"\" DESCRIBE EXTERNAL LOCATION `gold` \"\"\").select(\"url\").collect()[0][0]"
   ]
  },
  {
   "cell_type": "markdown",
   "metadata": {
    "application/vnd.databricks.v1+cell": {
     "cellMetadata": {},
     "inputWidgets": {},
     "nuid": "6da75a5f-3b65-4ef2-aec6-6240af040239",
     "showTitle": false,
     "tableResultSettingsMap": {},
     "title": ""
    }
   },
   "source": [
    "01 -- Removing duplicates"
   ]
  },
  {
   "cell_type": "code",
   "execution_count": 0,
   "metadata": {
    "application/vnd.databricks.v1+cell": {
     "cellMetadata": {},
     "inputWidgets": {},
     "nuid": "7c634c44-5f4c-446f-ac05-c397ffa469b0",
     "showTitle": false,
     "tableResultSettingsMap": {},
     "title": ""
    }
   },
   "outputs": [],
   "source": [
    "def remove_Dups(df):\n",
    "    print('Removing Duplicate values: ',end='')\n",
    "    df_dup = df.dropDuplicates()\n",
    "    print('Success!')\n",
    "    print('***********************')\n",
    "    return df_dup"
   ]
  },
  {
   "cell_type": "markdown",
   "metadata": {
    "application/vnd.databricks.v1+cell": {
     "cellMetadata": {},
     "inputWidgets": {},
     "nuid": "b6ae7bb4-b711-4925-aa62-6469f83a8300",
     "showTitle": false,
     "tableResultSettingsMap": {},
     "title": ""
    }
   },
   "source": [
    " 01 -- Handling NULLs"
   ]
  },
  {
   "cell_type": "code",
   "execution_count": 0,
   "metadata": {
    "application/vnd.databricks.v1+cell": {
     "cellMetadata": {},
     "inputWidgets": {},
     "nuid": "2856847c-8b19-47ea-a13d-845b0fcce845",
     "showTitle": false,
     "tableResultSettingsMap": {},
     "title": ""
    }
   },
   "outputs": [],
   "source": [
    "def handle_NULLs(df,Columns):\n",
    "    print('Replacing NULLs of Strings DataType with \"Unknown\": ', end='')\n",
    "    df_string = df.fillna('Unknown',subset=Columns)\n",
    "    print('Success!')\n",
    "    print('Replacing NULLs of Numeric DataType with \"0\":  ', end='')\n",
    "    df_numeric = df_string.fillna(0,subset=Columns)\n",
    "    print('Success!')\n",
    "    print('***********************')\n",
    "    return df_numeric"
   ]
  }
 ],
 "metadata": {
  "application/vnd.databricks.v1+notebook": {
   "computePreferences": null,
   "dashboards": [],
   "environmentMetadata": {
    "base_environment": "",
    "environment_version": "2"
   },
   "inputWidgetPreferences": null,
   "language": "python",
   "notebookMetadata": {
    "pythonIndentUnit": 4
   },
   "notebookName": "04. Common",
   "widgets": {}
  },
  "language_info": {
   "name": "python"
  }
 },
 "nbformat": 4,
 "nbformat_minor": 0
}
