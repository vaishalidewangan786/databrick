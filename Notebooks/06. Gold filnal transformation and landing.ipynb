{
 "cells": [
  {
   "cell_type": "code",
   "execution_count": 0,
   "metadata": {
    "application/vnd.databricks.v1+cell": {
     "cellMetadata": {
      "byteLimit": 2048000,
      "rowLimit": 10000
     },
     "inputWidgets": {},
     "nuid": "7bac1092-ffd6-47cc-95bb-dcc2ab88a169",
     "showTitle": false,
     "tableResultSettingsMap": {},
     "title": ""
    }
   },
   "outputs": [],
   "source": [
    "%run \"/Workspace/project 1/04. Common\""
   ]
  },
  {
   "cell_type": "code",
   "execution_count": 0,
   "metadata": {
    "application/vnd.databricks.v1+cell": {
     "cellMetadata": {
      "byteLimit": 2048000,
      "rowLimit": 10000
     },
     "inputWidgets": {},
     "nuid": "5cc5d3b4-5023-452f-b85d-31be85a4c26e",
     "showTitle": false,
     "tableResultSettingsMap": {},
     "title": ""
    }
   },
   "outputs": [],
   "source": [
    "dbutils.widgets.text(name=\"env\",defaultValue='',label='Enter the environment in lower case')\n",
    "env = dbutils.widgets.get(\"env\")"
   ]
  },
  {
   "cell_type": "markdown",
   "metadata": {
    "application/vnd.databricks.v1+cell": {
     "cellMetadata": {},
     "inputWidgets": {},
     "nuid": "253b2872-dcf2-4f7f-ae6d-0aa60efb6706",
     "showTitle": false,
     "tableResultSettingsMap": {},
     "title": ""
    }
   },
   "source": [
    "Read Silver_Traffic table"
   ]
  },
  {
   "cell_type": "code",
   "execution_count": 0,
   "metadata": {
    "application/vnd.databricks.v1+cell": {
     "cellMetadata": {
      "byteLimit": 2048000,
      "rowLimit": 10000
     },
     "inputWidgets": {},
     "nuid": "50d0a22a-eeb0-46f4-8eb3-c09f59240f84",
     "showTitle": false,
     "tableResultSettingsMap": {},
     "title": ""
    }
   },
   "outputs": [],
   "source": [
    "def read_SilverTrafficTable(environment):\n",
    "    print('Reading the Silver Traffic Table Data : ',end='')\n",
    "    df_SilverTraffic = (spark.readStream\n",
    "                    .table(f\"`{environment}`.`silver`.silver_traffic\")\n",
    "                    )\n",
    "    print(f'Reading {environment}_catalog.silver.silver_traffic Success!')\n",
    "    print(\"**********************************\")\n",
    "    return df_SilverTraffic"
   ]
  },
  {
   "cell_type": "markdown",
   "metadata": {
    "application/vnd.databricks.v1+cell": {
     "cellMetadata": {},
     "inputWidgets": {},
     "nuid": "a37cd418-17c8-43ed-b5fe-8cadf4ec43bf",
     "showTitle": false,
     "tableResultSettingsMap": {},
     "title": ""
    }
   },
   "source": [
    "Read silver_roads Table"
   ]
  },
  {
   "cell_type": "code",
   "execution_count": 0,
   "metadata": {
    "application/vnd.databricks.v1+cell": {
     "cellMetadata": {
      "byteLimit": 2048000,
      "rowLimit": 10000
     },
     "inputWidgets": {},
     "nuid": "7b4c0e09-435e-42f8-86fb-08e87ae9ac78",
     "showTitle": false,
     "tableResultSettingsMap": {},
     "title": ""
    }
   },
   "outputs": [],
   "source": [
    "\n",
    "def read_SilverRoadsTable(environment):\n",
    "    print('Reading the Silver Table Silver_roads Data : ',end='')\n",
    "    df_SilverRoads = (spark.readStream\n",
    "                    .table(f\"`{environment}`.`silver`.silver_roads\")\n",
    "                    )\n",
    "    print(f'Reading {environment}_catalog.silver.silver_roads Success!')\n",
    "    print(\"**********************************\")\n",
    "    return df_SilverRoads"
   ]
  },
  {
   "cell_type": "markdown",
   "metadata": {
    "application/vnd.databricks.v1+cell": {
     "cellMetadata": {},
     "inputWidgets": {},
     "nuid": "d81652b9-8bb1-416e-b83a-a0349437b7d3",
     "showTitle": false,
     "tableResultSettingsMap": {},
     "title": ""
    }
   },
   "source": [
    "Creating vehicle Intensity Column"
   ]
  },
  {
   "cell_type": "code",
   "execution_count": 0,
   "metadata": {
    "application/vnd.databricks.v1+cell": {
     "cellMetadata": {
      "byteLimit": 2048000,
      "rowLimit": 10000
     },
     "inputWidgets": {},
     "nuid": "73c23472-7723-491c-9569-338701aeffea",
     "showTitle": false,
     "tableResultSettingsMap": {},
     "title": ""
    }
   },
   "outputs": [],
   "source": [
    "def create_VehicleIntensity(df):\n",
    " from pyspark.sql.functions import col\n",
    " print('Creating Vehicle Intensity column : ',end='')\n",
    " df_veh = df.withColumn('Vehicle_Intensity',\n",
    "               col('Motor_Vehicles_Count') / col('Link_length_km')\n",
    "               )\n",
    " print(\"Success!!!\")\n",
    " print('***************')\n",
    " return df_veh"
   ]
  },
  {
   "cell_type": "markdown",
   "metadata": {
    "application/vnd.databricks.v1+cell": {
     "cellMetadata": {},
     "inputWidgets": {},
     "nuid": "74999bcc-e370-4c82-bef3-e0d38ba9184b",
     "showTitle": false,
     "tableResultSettingsMap": {},
     "title": ""
    }
   },
   "source": [
    "Creating LoadTime column"
   ]
  },
  {
   "cell_type": "code",
   "execution_count": 0,
   "metadata": {
    "application/vnd.databricks.v1+cell": {
     "cellMetadata": {
      "byteLimit": 2048000,
      "rowLimit": 10000
     },
     "inputWidgets": {},
     "nuid": "cec8d9d0-6c0d-40af-b187-041943629a0e",
     "showTitle": false,
     "tableResultSettingsMap": {},
     "title": ""
    }
   },
   "outputs": [],
   "source": [
    "def create_LoadTime(df):\n",
    "    from pyspark.sql.functions import current_timestamp\n",
    "    print('Creating Load Time column : ',end='')\n",
    "    df_timestamp = df.withColumn('Load_Time',\n",
    "                      current_timestamp()\n",
    "                      )\n",
    "    print('Success!!')\n",
    "    print('**************')\n",
    "    return df_timestamp"
   ]
  },
  {
   "cell_type": "markdown",
   "metadata": {
    "application/vnd.databricks.v1+cell": {
     "cellMetadata": {},
     "inputWidgets": {},
     "nuid": "ed009a9e-a5c5-4e3e-a3a3-1b07f83d11cd",
     "showTitle": false,
     "tableResultSettingsMap": {},
     "title": ""
    }
   },
   "source": [
    "Writing Data to Gold Traffic"
   ]
  },
  {
   "cell_type": "code",
   "execution_count": 0,
   "metadata": {
    "application/vnd.databricks.v1+cell": {
     "cellMetadata": {
      "byteLimit": 2048000,
      "rowLimit": 10000
     },
     "inputWidgets": {},
     "nuid": "9e21969d-42c7-4e8f-a250-96e2870f1a8b",
     "showTitle": false,
     "tableResultSettingsMap": {},
     "title": ""
    }
   },
   "outputs": [],
   "source": [
    "%python\n",
    "def write_Traffic_GoldTable(StreamingDF, environment):\n",
    "    print('Writing the gold_traffic Data : ', end='') \n",
    "\n",
    "    write_gold_traffic = (StreamingDF.writeStream\n",
    "                .format('delta')\n",
    "                .option('checkpointLocation', checkpoint + \"GoldTrafficLoad/Checkpt/\")\n",
    "                .outputMode('append')\n",
    "                .queryName(\"GoldTrafficWriteStream\")\n",
    "                .trigger(availableNow=True)\n",
    "                .toTable(f\"{environment}.gold.gold_traffic\"))\n",
    "    \n",
    "    write_gold_traffic.awaitTermination()\n",
    "    print(f'Writing `{environment}.gold.gold_traffic` Success!')"
   ]
  },
  {
   "cell_type": "markdown",
   "metadata": {
    "application/vnd.databricks.v1+cell": {
     "cellMetadata": {},
     "inputWidgets": {},
     "nuid": "5bf81bf0-f8e4-4a98-9fcf-37878bc3ee91",
     "showTitle": false,
     "tableResultSettingsMap": {},
     "title": ""
    }
   },
   "source": [
    "Writing Data to Gold Roads"
   ]
  },
  {
   "cell_type": "code",
   "execution_count": 0,
   "metadata": {
    "application/vnd.databricks.v1+cell": {
     "cellMetadata": {
      "byteLimit": 2048000,
      "rowLimit": 10000
     },
     "inputWidgets": {},
     "nuid": "58df2eb8-e092-41ce-b8d9-c7e710165825",
     "showTitle": false,
     "tableResultSettingsMap": {},
     "title": ""
    }
   },
   "outputs": [],
   "source": [
    "def write_Roads_GoldTable(StreamingDF,environment):\n",
    "    print('Writing the gold_roads Data : ',end='') \n",
    "\n",
    "    write_gold_roads = (StreamingDF.writeStream\n",
    "                .format('delta')\n",
    "                .option('checkpointLocation',checkpoint+ \"GoldRoadsLoad/Checkpt/\")\n",
    "                .outputMode('append')\n",
    "                .queryName(\"GoldRoadsWriteStream\")\n",
    "                .trigger(availableNow=True)\n",
    "                .toTable(f\"`{environment}`.`gold`.`gold_roads`\"))\n",
    "    \n",
    "    write_gold_roads.awaitTermination()\n",
    "    print(f'Writing `{environment}`.`gold`.`gold_roads` Success!')"
   ]
  },
  {
   "cell_type": "markdown",
   "metadata": {
    "application/vnd.databricks.v1+cell": {
     "cellMetadata": {},
     "inputWidgets": {},
     "nuid": "70430f92-8fd2-4190-ab64-4ec92933cbe6",
     "showTitle": false,
     "tableResultSettingsMap": {},
     "title": ""
    }
   },
   "source": [
    " Calling all functions"
   ]
  },
  {
   "cell_type": "code",
   "execution_count": 0,
   "metadata": {
    "application/vnd.databricks.v1+cell": {
     "cellMetadata": {
      "byteLimit": 2048000,
      "rowLimit": 10000
     },
     "inputWidgets": {},
     "nuid": "3ebaff06-1df1-4474-a57f-c16dafb5f4cc",
     "showTitle": false,
     "tableResultSettingsMap": {},
     "title": ""
    }
   },
   "outputs": [],
   "source": [
    "## Reading from Silver tables\n",
    "df_SilverTraffic = read_SilverTrafficTable(env)\n",
    "df_SilverRoads = read_SilverRoadsTable(env)\n",
    "    \n",
    "## Tranformations     \n",
    "df_vehicle = create_VehicleIntensity(df_SilverTraffic)\n",
    "df_FinalTraffic = create_LoadTime(df_vehicle)\n",
    "df_FinalRoads = create_LoadTime(df_SilverRoads)\n",
    "\n",
    "\n",
    "## Writing to gold tables    \n",
    "write_Traffic_GoldTable(df_FinalTraffic,env)\n",
    "write_Roads_GoldTable(df_FinalRoads,env)"
   ]
  }
 ],
 "metadata": {
  "application/vnd.databricks.v1+notebook": {
   "computePreferences": null,
   "dashboards": [],
   "environmentMetadata": {
    "base_environment": "",
    "environment_version": "2"
   },
   "inputWidgetPreferences": null,
   "language": "python",
   "notebookMetadata": {
    "pythonIndentUnit": 4
   },
   "notebookName": "06. Gold filnal transformation and landing",
   "widgets": {
    "env": {
     "currentValue": "dev",
     "nuid": "4eda58b3-42f3-4def-908a-3ae22bb2d936",
     "typedWidgetInfo": {
      "autoCreated": false,
      "defaultValue": "",
      "label": "Enter the environment in lower case",
      "name": "env",
      "options": {
       "widgetDisplayType": "Text",
       "validationRegex": null
      },
      "parameterDataType": "String"
     },
     "widgetInfo": {
      "widgetType": "text",
      "defaultValue": "",
      "label": "Enter the environment in lower case",
      "name": "env",
      "options": {
       "widgetType": "text",
       "autoCreated": null,
       "validationRegex": null
      }
     }
    }
   }
  },
  "language_info": {
   "name": "python"
  }
 },
 "nbformat": 4,
 "nbformat_minor": 0
}
