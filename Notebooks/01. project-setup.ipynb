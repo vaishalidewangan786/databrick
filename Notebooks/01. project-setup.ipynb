{
 "cells": [
  {
   "cell_type": "code",
   "execution_count": 0,
   "metadata": {
    "application/vnd.databricks.v1+cell": {
     "cellMetadata": {
      "byteLimit": 2048000,
      "rowLimit": 10000
     },
     "inputWidgets": {},
     "nuid": "e4b8c664-4217-4f3a-8346-aa3d5c3f227e",
     "showTitle": false,
     "tableResultSettingsMap": {},
     "title": ""
    }
   },
   "outputs": [],
   "source": [
    "dbutils.widgets.text(name=\"env\",defaultValue=\"\",label=\" Enter the environment in lower case\")\n",
    "env = dbutils.widgets.get(\"env\")"
   ]
  },
  {
   "cell_type": "code",
   "execution_count": 0,
   "metadata": {
    "application/vnd.databricks.v1+cell": {
     "cellMetadata": {
      "byteLimit": 2048000,
      "rowLimit": 10000
     },
     "inputWidgets": {},
     "nuid": "c1a04cdc-9fe9-4558-9973-29a1f4c9dbd6",
     "showTitle": false,
     "tableResultSettingsMap": {},
     "title": ""
    }
   },
   "outputs": [],
   "source": [
    "%run \"/Workspace/project 1/04. Common\""
   ]
  },
  {
   "cell_type": "code",
   "execution_count": 0,
   "metadata": {
    "application/vnd.databricks.v1+cell": {
     "cellMetadata": {
      "byteLimit": 2048000,
      "rowLimit": 10000
     },
     "inputWidgets": {},
     "nuid": "dfced85f-c890-4a67-89e6-6faf77b44b59",
     "showTitle": false,
     "tableResultSettingsMap": {},
     "title": ""
    }
   },
   "outputs": [],
   "source": [
    "def create_Bronze_Schema(environment,path):\n",
    "    print(f'Using {environment} ')\n",
    "    spark.sql(f\"\"\" USE CATALOG '{environment}'\"\"\")\n",
    "    print(f'Creating Bronze Schema in {environment}_Catalog')\n",
    "    spark.sql(f\"\"\"CREATE SCHEMA IF NOT EXISTS `bronze` MANAGED LOCATION '{path}/bronze'\"\"\")\n",
    "    print(\"************************************\")"
   ]
  },
  {
   "cell_type": "code",
   "execution_count": 0,
   "metadata": {
    "application/vnd.databricks.v1+cell": {
     "cellMetadata": {
      "byteLimit": 2048000,
      "rowLimit": 10000
     },
     "inputWidgets": {},
     "nuid": "ffd992a0-2ca6-42de-8a71-ce0491e3fa97",
     "showTitle": false,
     "tableResultSettingsMap": {},
     "title": ""
    }
   },
   "outputs": [],
   "source": [
    "def create_Silver_Schema(environment,path):\n",
    "    print(f'Using {environment}_Catalog ')\n",
    "    spark.sql(f\"\"\" USE CATALOG '{environment}'\"\"\")\n",
    "    print(f'Creating Silver Schema in {environment}_Catalog')\n",
    "    spark.sql(f\"\"\"CREATE SCHEMA IF NOT EXISTS `silver` MANAGED LOCATION '{path}/silver'\"\"\")\n",
    "    print(\"************************************\")"
   ]
  },
  {
   "cell_type": "code",
   "execution_count": 0,
   "metadata": {
    "application/vnd.databricks.v1+cell": {
     "cellMetadata": {
      "byteLimit": 2048000,
      "rowLimit": 10000
     },
     "inputWidgets": {},
     "nuid": "9311c2ed-fb7e-4ef0-bfcb-854a3bb97940",
     "showTitle": false,
     "tableResultSettingsMap": {},
     "title": ""
    }
   },
   "outputs": [],
   "source": [
    "def create_Gold_Schema(environment,path):\n",
    "    print(f'Using {environment}')\n",
    "    spark.sql(f\"\"\" USE CATALOG '{environment}'\"\"\")\n",
    "    print(f'Creating Gold Schema in {environment}_Catalog')\n",
    "    spark.sql(f\"\"\"CREATE SCHEMA IF NOT EXISTS `gold` MANAGED LOCATION '{path}/gold'\"\"\")\n",
    "    print(\"************************************\")"
   ]
  },
  {
   "cell_type": "code",
   "execution_count": 0,
   "metadata": {
    "application/vnd.databricks.v1+cell": {
     "cellMetadata": {
      "byteLimit": 2048000,
      "rowLimit": 10000
     },
     "inputWidgets": {},
     "nuid": "77c8b1c9-011f-43a3-8331-09230bec504b",
     "showTitle": false,
     "tableResultSettingsMap": {},
     "title": ""
    }
   },
   "outputs": [],
   "source": [
    "\n",
    "def createTable_rawTraffic(environment):\n",
    "    print(f'Creating raw_Traffic table in {environment}')\n",
    "    spark.sql(f\"\"\"CREATE TABLE IF NOT EXISTS `{environment}`.`bronze`.`raw_traffic`\n",
    "                        (\n",
    "                            Record_ID INT,\n",
    "                            Count_point_id INT,\n",
    "                            Direction_of_travel VARCHAR(255),\n",
    "                            Year INT,\n",
    "                            Count_date VARCHAR(255),\n",
    "                            hour INT,\n",
    "                            Region_id INT,\n",
    "                            Region_name VARCHAR(255),\n",
    "                            Local_authority_name VARCHAR(255),\n",
    "                            Road_name VARCHAR(255),\n",
    "                            Road_Category_ID INT,\n",
    "                            Start_junction_road_name VARCHAR(255),\n",
    "                            End_junction_road_name VARCHAR(255),\n",
    "                            Latitude DOUBLE,\n",
    "                            Longitude DOUBLE,\n",
    "                            Link_length_km DOUBLE,\n",
    "                            Pedal_cycles INT,\n",
    "                            Two_wheeled_motor_vehicles INT,\n",
    "                            Cars_and_taxis INT,\n",
    "                            Buses_and_coaches INT,\n",
    "                            LGV_Type INT,\n",
    "                            HGV_Type INT,\n",
    "                            EV_Car INT,\n",
    "                            EV_Bike INT,\n",
    "                            Extract_Time TIMESTAMP\n",
    "                    );\"\"\")\n",
    "    \n",
    "    print(\"************************************\")"
   ]
  },
  {
   "cell_type": "code",
   "execution_count": 0,
   "metadata": {
    "application/vnd.databricks.v1+cell": {
     "cellMetadata": {
      "byteLimit": 2048000,
      "rowLimit": 10000
     },
     "inputWidgets": {},
     "nuid": "171cf2db-d06a-4dac-9969-4e90d72d41d7",
     "showTitle": false,
     "tableResultSettingsMap": {},
     "title": ""
    }
   },
   "outputs": [],
   "source": [
    "\n",
    "def createTable_rawRoad(environment):\n",
    "    print(f'Creating raw_roads table in {environment}')\n",
    "    spark.sql(f\"\"\"CREATE TABLE IF NOT EXISTS `{environment}`.`bronze`.`raw_roads`\n",
    "                        (\n",
    "                            Road_ID INT,\n",
    "                            Road_Category_Id INT,\n",
    "                            Road_Category VARCHAR(255),\n",
    "                            Region_ID INT,\n",
    "                            Region_Name VARCHAR(255),\n",
    "                            Total_Link_Length_Km DOUBLE,\n",
    "                            Total_Link_Length_Miles DOUBLE,\n",
    "                            All_Motor_Vehicles DOUBLE\n",
    "                    );\"\"\")\n",
    "    \n",
    "    print(\"************************************\")"
   ]
  },
  {
   "cell_type": "code",
   "execution_count": 0,
   "metadata": {
    "application/vnd.databricks.v1+cell": {
     "cellMetadata": {
      "byteLimit": 2048000,
      "rowLimit": 10000
     },
     "inputWidgets": {},
     "nuid": "6badcb6c-5b16-4550-9f82-b06bfefd79b1",
     "showTitle": false,
     "tableResultSettingsMap": {},
     "title": ""
    }
   },
   "outputs": [],
   "source": [
    "\n",
    "create_Bronze_Schema(env,bronze_path)\n",
    "createTable_rawTraffic(env)\n",
    "createTable_rawRoad(env)\n",
    "\n",
    "\n",
    "create_Silver_Schema(env,silver_path)\n",
    "create_Gold_Schema(env,gold_path)"
   ]
  }
 ],
 "metadata": {
  "application/vnd.databricks.v1+notebook": {
   "computePreferences": null,
   "dashboards": [],
   "environmentMetadata": {
    "base_environment": "",
    "environment_version": "2"
   },
   "inputWidgetPreferences": null,
   "language": "python",
   "notebookMetadata": {
    "pythonIndentUnit": 4
   },
   "notebookName": "01. project-setup",
   "widgets": {
    "env": {
     "currentValue": "dev",
     "nuid": "79b1351b-fb8a-4478-bb11-34cca599429f",
     "typedWidgetInfo": {
      "autoCreated": false,
      "defaultValue": "",
      "label": " Enter the environment in lower case",
      "name": "env",
      "options": {
       "widgetDisplayType": "Text",
       "validationRegex": null
      },
      "parameterDataType": "String"
     },
     "widgetInfo": {
      "widgetType": "text",
      "defaultValue": "",
      "label": " Enter the environment in lower case",
      "name": "env",
      "options": {
       "widgetType": "text",
       "autoCreated": null,
       "validationRegex": null
      }
     }
    }
   }
  },
  "language_info": {
   "name": "python"
  }
 },
 "nbformat": 4,
 "nbformat_minor": 0
}
